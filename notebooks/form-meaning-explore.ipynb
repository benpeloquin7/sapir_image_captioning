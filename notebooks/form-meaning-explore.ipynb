{
 "cells": [
  {
   "cell_type": "markdown",
   "metadata": {},
   "source": [
    "Multi-language embedding\n",
    "\n",
    "https://github.com/facebookresearch/MUSE"
   ]
  },
  {
   "cell_type": "code",
   "execution_count": 67,
   "metadata": {},
   "outputs": [],
   "source": [
    "from collections import defaultdict\n",
    "import itertools as it\n",
    "import gensim\n",
    "from Levenshtein import distance\n",
    "import matplotlib.pyplot as plt\n",
    "import numpy as np\n",
    "import os\n",
    "from scipy.spatial.distance import cosine\n",
    "from scipy.stats import ttest_rel\n",
    "\n",
    "import tqdm"
   ]
  },
  {
   "cell_type": "code",
   "execution_count": 14,
   "metadata": {},
   "outputs": [],
   "source": [
    "model_fp = \"/Users/benpeloquin/Data/nlp/google-wv/GoogleNews-vectors-negative300.bin\"\n",
    "model = gensim.models.KeyedVectors.load_word2vec_format(model_fp, binary=True)  "
   ]
  },
  {
   "cell_type": "code",
   "execution_count": 15,
   "metadata": {},
   "outputs": [
    {
     "data": {
      "text/plain": [
       "(3000000, 300)"
      ]
     },
     "execution_count": 15,
     "metadata": {},
     "output_type": "execute_result"
    }
   ],
   "source": [
    "model.vectors.shape"
   ]
  },
  {
   "cell_type": "code",
   "execution_count": 4,
   "metadata": {},
   "outputs": [],
   "source": [
    "vocab = model.vocab\n",
    "vocab_words = [word for i, word in enumerate(vocab.keys()) if i in idxs] "
   ]
  },
  {
   "cell_type": "code",
   "execution_count": 54,
   "metadata": {},
   "outputs": [],
   "source": [
    "def get_vocab_sample(model, n=500):\n",
    "    vocab_words_1 = list(model.vocab.keys())\n",
    "    vocab_words_2 = list(model.vocab.keys())\n",
    "    idxs = np.random.choice(range(len(vocab_words_1)), n)\n",
    "    vocab_words = [word for i, word in enumerate(vocab_words_1) if i in idxs]\n",
    "    vocab_words_random = [word for i, word in enumerate(vocab_words_2) if i in idxs]\n",
    "    np.random.shuffle(vocab_words_random)\n",
    "    vocab_vals = model.vectors[idxs, :]\n",
    "    # Basic check on randomization\n",
    "    assert vocab_words[0] != vocab_words_random[0]\n",
    "    return vocab_vals, vocab_words, vocab_words_random\n",
    "\n",
    "def get_pairwise_distances(items, dist_fn=lambda x: x):\n",
    "    pairs = list(it.product(items, items))\n",
    "    final_pairs = []\n",
    "    dists = []\n",
    "    for a, b in pairs:\n",
    "        dist = dist_fn(a, b)\n",
    "        # Note (BP): You may need to complicate this...\n",
    "        if dist == 0:\n",
    "            continue\n",
    "        dists.append(dist)\n",
    "        final_pairs.append((a, b))\n",
    "    return dists, final_pairs\n",
    "\n",
    "def get_distance_correlations(model, n=500):\n",
    "    vals, words, random_words = get_vocab_sample(model, n)\n",
    "    val_dists, _ = get_pairwise_distances(vals, cosine)\n",
    "    word_dists, _ = get_pairwise_distances(words, distance)\n",
    "    random_word_dists, _ = get_pairwise_distances(random_words, distance)\n",
    "    return np.corrcoef(val_dists, word_dists)[0][1], np.corrcoef(val_dists, random_word_dists)[0][1]"
   ]
  },
  {
   "cell_type": "code",
   "execution_count": 58,
   "metadata": {},
   "outputs": [],
   "source": [
    "def run_distance_correlations(model, n_sims=100, n_sample=100):\n",
    "    real_corrs = []\n",
    "    random_corrs = []\n",
    "    for sim in tqdm.tqdm(range(n_sims)):\n",
    "        real_corr, random_corr = get_distance_correlations(model, n_sample)\n",
    "        real_corrs.append(real_corr)\n",
    "        random_corrs.append(random_corr)\n",
    "    return real_corrs, random_corrs    "
   ]
  },
  {
   "cell_type": "code",
   "execution_count": 65,
   "metadata": {},
   "outputs": [
    {
     "name": "stderr",
     "output_type": "stream",
     "text": [
      "100%|██████████| 50/50 [12:33<00:00, 15.07s/it]\n"
     ]
    }
   ],
   "source": [
    "real_corrs, random_corrs = run_distance_correlations(model, 50, 100)"
   ]
  },
  {
   "cell_type": "code",
   "execution_count": 71,
   "metadata": {},
   "outputs": [
    {
     "data": {
      "text/plain": [
       "Text(0.5, 0, 'Corr')"
      ]
     },
     "execution_count": 71,
     "metadata": {},
     "output_type": "execute_result"
    },
    {
     "data": {
      "image/png": "[encoded data removed]",
      "text/plain": [
       "<Figure size 432x288 with 1 Axes>"
      ]
     },
     "metadata": {},
     "output_type": "display_data"
    }
   ],
   "source": [
    "plt.title(\"Correlation distrs\")\n",
    "plt.hist(real_corrs, color=\"red\", alpha=0.4)\n",
    "plt.hist(random_corrs, color=\"blue\", alpha=0.4)\n",
    "plt.axvline(np.mean(real_corrs), color=\"red\")\n",
    "plt.axvline(np.mean(random_corrs), color=\"blue\")\n",
    "plt.xlabel(\"Corr\")"
   ]
  },
  {
   "cell_type": "code",
   "execution_count": 67,
   "metadata": {},
   "outputs": [
    {
     "data": {
      "text/plain": [
       "Ttest_indResult(statistic=-0.522774726118779, pvalue=0.602310931317155)"
      ]
     },
     "execution_count": 67,
     "metadata": {},
     "output_type": "execute_result"
    }
   ],
   "source": [
    "from scipy.stats import ttest_ind\n",
    "ttest_ind(real_corrs, random_corrs)"
   ]
  },
  {
   "cell_type": "code",
   "execution_count": 2,
   "metadata": {},
   "outputs": [
    {
     "name": "stderr",
     "output_type": "stream",
     "text": [
      "  0%|          | 0/200000 [00:00<?, ?it/s]\n",
      "  0%|          | 1/200000 [01:12<4053:10:30, 72.96s/it]\n",
      "  1%|          | 1169/200000 [01:13<2820:39:16, 51.07s/it]\n",
      "  1%|▏         | 2545/200000 [01:13<1960:47:42, 35.75s/it]\n",
      "  2%|▏         | 4025/200000 [01:13<1362:16:11, 25.02s/it]\n",
      "  3%|▎         | 5537/200000 [01:13<946:13:58, 17.52s/it] \n",
      "  4%|▎         | 7044/200000 [01:13<657:13:51, 12.26s/it]\n",
      "  4%|▍         | 8484/200000 [01:13<456:37:46,  8.58s/it]\n",
      "  5%|▍         | 9904/200000 [01:13<317:16:18,  6.01s/it]\n",
      "  6%|▌         | 11230/200000 [01:13<220:32:32,  4.21s/it]\n",
      "  6%|▋         | 12657/200000 [01:13<153:12:49,  2.94s/it]\n",
      "  7%|▋         | 14214/200000 [01:13<106:21:33,  2.06s/it]\n",
      "  8%|▊         | 15702/200000 [01:14<73:51:22,  1.44s/it] \n",
      "  9%|▊         | 17152/200000 [01:14<51:17:37,  1.01s/it]\n",
      "  9%|▉         | 18663/200000 [01:14<35:36:35,  1.41it/s]\n",
      " 10%|█         | 20124/200000 [01:14<24:43:37,  2.02it/s]\n",
      " 11%|█         | 21577/200000 [01:14<17:10:12,  2.89it/s]\n",
      " 12%|█▏        | 23026/200000 [01:14<11:55:21,  4.12it/s]\n",
      " 12%|█▏        | 24565/200000 [01:14<8:16:26,  5.89it/s] \n",
      " 13%|█▎        | 26062/200000 [01:14<5:44:36,  8.41it/s]\n",
      " 14%|█▍        | 27586/200000 [01:14<3:59:10, 12.01it/s]\n",
      " 15%|█▍        | 29093/200000 [01:14<2:46:00, 17.16it/s]\n",
      " 15%|█▌        | 30600/200000 [01:15<1:55:14, 24.50it/s]\n",
      " 16%|█▌        | 32166/200000 [01:15<1:19:58, 34.98it/s]\n",
      " 17%|█▋        | 33686/200000 [01:15<55:32, 49.91it/s]  \n",
      " 18%|█▊        | 35232/200000 [01:15<38:33, 71.21it/s]\n",
      " 18%|█▊        | 36764/200000 [01:15<26:47, 101.52it/s]\n",
      " 19%|█▉        | 38278/200000 [01:15<18:38, 144.60it/s]\n",
      " 20%|█▉        | 39824/200000 [01:15<12:58, 205.74it/s]\n",
      " 21%|██        | 41351/200000 [01:15<09:02, 292.23it/s]\n",
      " 21%|██▏       | 42899/200000 [01:15<06:19, 414.12it/s]\n",
      " 22%|██▏       | 44425/200000 [01:15<04:26, 584.70it/s]\n",
      " 23%|██▎       | 45945/200000 [01:16<03:07, 821.46it/s]\n",
      " 24%|██▎       | 47464/200000 [01:16<02:12, 1146.94it/s]\n",
      " 24%|██▍       | 48977/200000 [01:16<01:35, 1583.76it/s]\n",
      " 25%|██▌       | 50473/200000 [01:16<01:09, 2164.27it/s]\n",
      " 26%|██▌       | 51965/200000 [01:16<00:50, 2910.85it/s]\n",
      " 27%|██▋       | 53455/200000 [01:16<00:38, 3817.82it/s]\n",
      " 27%|██▋       | 54918/200000 [01:16<00:31, 4679.60it/s]\n",
      " 28%|██▊       | 56239/200000 [01:16<00:25, 5647.10it/s]\n",
      " 29%|██▊       | 57491/200000 [01:16<00:21, 6593.59it/s]\n",
      " 29%|██▉       | 58692/200000 [01:17<00:19, 7349.56it/s]\n",
      " 30%|███       | 60041/200000 [01:17<00:16, 8511.32it/s]\n",
      " 31%|███       | 61397/200000 [01:17<00:14, 9580.71it/s]\n",
      " 31%|███▏      | 62866/200000 [01:17<00:12, 10696.09it/s]\n",
      " 32%|███▏      | 64375/200000 [01:17<00:11, 11719.51it/s]\n",
      " 33%|███▎      | 65832/200000 [01:17<00:10, 12449.01it/s]\n",
      " 34%|███▎      | 67231/200000 [01:17<00:10, 12520.81it/s]\n",
      " 34%|███▍      | 68591/200000 [01:17<00:10, 12211.14it/s]\n",
      " 35%|███▌      | 70019/200000 [01:17<00:10, 12765.40it/s]\n",
      " 36%|███▌      | 71382/200000 [01:18<00:09, 13012.71it/s]\n",
      " 36%|███▋      | 72824/200000 [01:18<00:09, 13402.83it/s]\n",
      " 37%|███▋      | 74245/200000 [01:18<00:09, 13633.67it/s]\n",
      " 38%|███▊      | 75633/200000 [01:18<00:09, 13575.94it/s]\n",
      " 39%|███▊      | 77072/200000 [01:18<00:08, 13809.59it/s]\n",
      " 39%|███▉      | 78495/200000 [01:18<00:08, 13931.48it/s]\n",
      " 40%|███▉      | 79898/200000 [01:18<00:08, 13867.17it/s]\n",
      " 41%|████      | 81352/200000 [01:18<00:08, 14060.63it/s]\n",
      " 41%|████▏     | 82849/200000 [01:18<00:08, 14320.23it/s]\n",
      " 42%|████▏     | 84367/200000 [01:18<00:07, 14565.87it/s]\n",
      " 43%|████▎     | 85859/200000 [01:19<00:07, 14669.59it/s]\n",
      " 44%|████▎     | 87375/200000 [01:19<00:07, 14811.58it/s]\n",
      " 44%|████▍     | 88859/200000 [01:19<00:07, 14495.29it/s]\n",
      " 45%|████▌     | 90312/200000 [01:19<00:07, 14483.00it/s]\n",
      " 46%|████▌     | 91781/200000 [01:19<00:07, 14541.94it/s]\n",
      " 47%|████▋     | 93242/200000 [01:19<00:07, 14560.59it/s]\n",
      " 47%|████▋     | 94737/200000 [01:19<00:07, 14672.93it/s]\n",
      " 48%|████▊     | 96206/200000 [01:19<00:07, 13848.60it/s]\n",
      " 49%|████▉     | 97602/200000 [01:19<00:09, 11376.01it/s]\n",
      " 49%|████▉     | 98820/200000 [01:20<00:10, 10028.97it/s]\n",
      " 50%|████▉     | 99908/200000 [01:20<00:11, 9065.41it/s] \n",
      " 51%|█████     | 101216/200000 [01:20<00:09, 9983.83it/s]\n",
      " 51%|█████▏    | 102707/200000 [01:20<00:08, 11081.65it/s]\n",
      " 52%|█████▏    | 104239/200000 [01:20<00:07, 12083.11it/s]\n",
      " 53%|█████▎    | 105806/200000 [01:20<00:07, 12972.63it/s]\n",
      " 54%|█████▎    | 107307/200000 [01:20<00:06, 13521.54it/s]\n",
      " 54%|█████▍    | 108848/200000 [01:20<00:06, 14036.93it/s]\n",
      " 55%|█████▌    | 110341/200000 [01:20<00:06, 14292.61it/s]\n",
      " 56%|█████▌    | 111853/200000 [01:21<00:06, 14529.86it/s]\n",
      " 57%|█████▋    | 113398/200000 [01:21<00:05, 14793.37it/s]\n",
      " 57%|█████▋    | 114931/200000 [01:21<00:05, 14949.53it/s]\n",
      " 58%|█████▊    | 116457/200000 [01:21<00:05, 15039.83it/s]\n",
      " 59%|█████▉    | 117972/200000 [01:21<00:05, 15043.66it/s]\n",
      " 60%|█████▉    | 119484/200000 [01:21<00:05, 14834.12it/s]\n",
      " 60%|██████    | 120973/200000 [01:21<00:05, 14067.07it/s]\n",
      " 61%|██████    | 122392/200000 [01:21<00:05, 13740.19it/s]\n",
      " 62%|██████▏   | 123784/200000 [01:21<00:05, 13791.40it/s]\n",
      " 63%|██████▎   | 125316/200000 [01:21<00:05, 14214.89it/s]\n",
      " 63%|██████▎   | 126746/200000 [01:22<00:05, 13943.23it/s]\n",
      " 64%|██████▍   | 128148/200000 [01:22<00:05, 12742.63it/s]\n",
      " 65%|██████▍   | 129448/200000 [01:22<00:05, 12686.44it/s]\n",
      " 65%|██████▌   | 130933/200000 [01:22<00:05, 13264.97it/s]\n",
      " 66%|██████▌   | 132461/200000 [01:22<00:04, 13809.81it/s]\n",
      " 67%|██████▋   | 133871/200000 [01:22<00:04, 13894.17it/s]\n",
      " 68%|██████▊   | 135347/200000 [01:22<00:04, 14142.90it/s]\n",
      " 68%|██████▊   | 136772/200000 [01:22<00:04, 14148.21it/s]\n",
      " 69%|██████▉   | 138208/200000 [01:22<00:04, 14209.70it/s]\n",
      " 70%|██████▉   | 139635/200000 [01:23<00:04, 14073.17it/s]\n",
      " 71%|███████   | 141116/200000 [01:23<00:04, 14286.37it/s]\n",
      " 71%|███████▏  | 142549/200000 [01:23<00:04, 14114.25it/s]\n",
      " 72%|███████▏  | 143964/200000 [01:23<00:04, 13416.71it/s]\n",
      " 73%|███████▎  | 145315/200000 [01:23<00:04, 13249.79it/s]\n",
      " 73%|███████▎  | 146682/200000 [01:23<00:03, 13370.29it/s]\n",
      " 74%|███████▍  | 148143/200000 [01:23<00:03, 13716.76it/s]\n",
      " 75%|███████▍  | 149641/200000 [01:23<00:03, 14070.86it/s]\n",
      " 76%|███████▌  | 151055/200000 [01:23<00:03, 14039.07it/s]\n",
      " 76%|███████▌  | 152464/200000 [01:23<00:03, 13692.35it/s]\n",
      " 77%|███████▋  | 153839/200000 [01:24<00:03, 13546.50it/s]\n",
      " 78%|███████▊  | 155319/200000 [01:24<00:03, 13896.81it/s]\n",
      " 78%|███████▊  | 156780/200000 [01:24<00:03, 14101.38it/s]\n",
      " 79%|███████▉  | 158195/200000 [01:24<00:03, 13702.96it/s]\n",
      " 80%|███████▉  | 159571/200000 [01:24<00:03, 13461.08it/s]\n",
      " 80%|████████  | 160922/200000 [01:24<00:02, 13367.65it/s]\n",
      " 81%|████████  | 162299/200000 [01:24<00:02, 13485.78it/s]\n",
      " 82%|████████▏ | 163781/200000 [01:24<00:02, 13859.97it/s]\n",
      " 83%|████████▎ | 165172/200000 [01:24<00:02, 13760.10it/s]\n",
      " 83%|████████▎ | 166552/200000 [01:24<00:02, 13453.17it/s]\n",
      " 84%|████████▍ | 167902/200000 [01:25<00:02, 13431.96it/s]\n",
      " 85%|████████▍ | 169302/200000 [01:25<00:02, 13588.25it/s]\n",
      " 85%|████████▌ | 170668/200000 [01:25<00:02, 13544.07it/s]\n",
      " 86%|████████▌ | 172089/200000 [01:25<00:02, 13732.91it/s]\n",
      " 87%|████████▋ | 173534/200000 [01:25<00:01, 13939.96it/s]\n",
      " 88%|████████▊ | 176272/200000 [01:25<00:01, 13284.43it/s]\n",
      " 89%|████████▉ | 177607/200000 [01:25<00:01, 13298.78it/s]\n",
      " 90%|████████▉ | 179127/200000 [01:25<00:01, 13814.89it/s]\n",
      " 90%|█████████ | 180631/200000 [01:26<00:01, 14159.46it/s]\n",
      " 91%|█████████ | 182063/200000 [01:26<00:01, 14206.14it/s]\n",
      " 92%|█████████▏| 183563/200000 [01:26<00:01, 14434.01it/s]\n",
      " 93%|█████████▎| 185012/200000 [01:26<00:01, 13535.34it/s]\n",
      "185013it [00:13, 13827.86it/s]\u001b[A\n",
      " 93%|█████████▎| 186381/200000 [01:26<00:01, 13207.52it/s]\n",
      " 94%|█████████▍| 187801/200000 [01:26<00:00, 13465.43it/s]\n",
      " 95%|█████████▍| 189269/200000 [01:26<00:00, 13806.45it/s]\n",
      " 95%|█████████▌| 190745/200000 [01:26<00:00, 14078.28it/s]\n",
      " 97%|█████████▋| 193576/200000 [01:26<00:00, 13691.40it/s]\n",
      "193576it [00:14, 13826.52it/s]\u001b[A\n",
      " 97%|█████████▋| 194952/200000 [01:27<00:00, 13053.36it/s]\n",
      " 98%|█████████▊| 196270/200000 [01:27<00:00, 13089.02it/s]\n",
      " 99%|█████████▉| 197739/200000 [01:27<00:00, 13530.20it/s]\n",
      "100%|█████████▉| 199160/200000 [01:27<00:00, 13724.95it/s]\n",
      "100%|██████████| 200000/200000 [01:27<00:00, 2283.67it/s] \n"
     ]
    }
   ],
   "source": [
    "from urllib.request import urlopen\n",
    "\n",
    "test_url = \"https://dl.fbaipublicfiles.com/arrival/vectors/wiki.multi.en.vec\"\n",
    "\n",
    "f = urlopen(test_url)\n",
    "data = {}\n",
    "header = f.readline()\n",
    "header_data = header.split()\n",
    "vocab_size, hidden_size = int(header_data[0]), int(header_data[1])\n",
    "pbar = tqdm.tqdm(total=vocab_size)\n",
    "for line_idx, line in tqdm.tqdm(enumerate(f.readlines())):\n",
    "    elements = line.split()\n",
    "    word = elements[0]\n",
    "    vec = np.array(list(map(float, elements[1:])))\n",
    "    data[word] = vec\n",
    "    pbar.update()\n",
    "pbar.close()"
   ]
  },
  {
   "cell_type": "code",
   "execution_count": 10,
   "metadata": {},
   "outputs": [],
   "source": [
    "def get_vocab_sample(model, n=500):\n",
    "    \"\"\"\n",
    "\n",
    "    Parameters\n",
    "    ----------\n",
    "    model: dict\n",
    "        Keys are words, values are vector repr.\n",
    "    n: int [Default: 500]\n",
    "        Number of words to sample.\n",
    "\n",
    "    Returns\n",
    "    -------\n",
    "    tuple (np.array, np.array, np.array)\n",
    "        Vector, words, random ordered words.\n",
    "\n",
    "    \"\"\"\n",
    "    vocab_words_1 = np.array(list(model.keys()))\n",
    "    vocab_words_2 = np.array(list(model.keys()))\n",
    "    vector_repr = np.array(list(model.values()))\n",
    "\n",
    "    idxs = np.random.choice(range(len(vocab_words_1)), n)\n",
    "    words_sample = vocab_words_1[idxs]\n",
    "    words_sample_random = vocab_words_2[idxs]\n",
    "    vector_sample = vector_repr[idxs, :]\n",
    "    np.random.shuffle(words_sample_random)\n",
    "    # Basic check on randomization\n",
    "    assert words_sample[0] != words_sample_random[0]\n",
    "    return vector_sample, words_sample, words_sample_random\n",
    "\n",
    "\n",
    "def get_pairwise_distances(items, dist_fn=lambda x: x):\n",
    "    pairs = list(it.product(items, items))\n",
    "    final_pairs = []\n",
    "    dists = []\n",
    "    \n",
    "    for a, b in pairs:\n",
    "        dist = dist_fn(a, b)\n",
    "        # Note (BP): You may need to complicate this...\n",
    "        if dist == 0:\n",
    "            continue\n",
    "        dists.append(dist)\n",
    "        final_pairs.append((a, b))\n",
    "    return dists, final_pairs"
   ]
  },
  {
   "cell_type": "code",
   "execution_count": 11,
   "metadata": {},
   "outputs": [],
   "source": [
    "v, w1, w2 = get_vocab_sample(data, 10)"
   ]
  },
  {
   "cell_type": "code",
   "execution_count": 23,
   "metadata": {},
   "outputs": [],
   "source": [
    "# get_pairwise_distances(v, cosine)"
   ]
  },
  {
   "cell_type": "markdown",
   "metadata": {},
   "source": [
    "# Read samples trained elsewhere"
   ]
  },
  {
   "cell_type": "code",
   "execution_count": 24,
   "metadata": {},
   "outputs": [],
   "source": [
    "local_dir = \"/Users/benpeloquin/Data/projects/arbitrary_signs/outputs-2-20190530/\""
   ]
  },
  {
   "cell_type": "code",
   "execution_count": 27,
   "metadata": {},
   "outputs": [],
   "source": [
    "def fp_creator_correlations(dir_path, language, typ):\n",
    "    return os.path.join(dir_path, \"{}_{}_correlations.npy\".format(language, typ))\n",
    "    \n",
    "def fp_creator_model(dir_path, language, typ):\n",
    "    return os.path.join(dir_path, \"{}_model.pickle\".format(language, typ))"
   ]
  },
  {
   "cell_type": "code",
   "execution_count": 79,
   "metadata": {},
   "outputs": [],
   "source": [
    "languages = [\"en\", \"es\", \"fr\"]\n",
    "typs = [\"random\", \"real\"]\n",
    "models = defaultdict(dict)\n",
    "for lang, typ in it.product(languages, typs):\n",
    "    curr_fp = fp_creator_correlations(local_dir, lang, typ)\n",
    "    models[lang][typ] = np.load(curr_fp)"
   ]
  },
  {
   "cell_type": "code",
   "execution_count": 80,
   "metadata": {},
   "outputs": [
    {
     "data": {
      "text/plain": [
       "Ttest_relResult(statistic=6.487972770389009, pvalue=3.6022055465400556e-10)"
      ]
     },
     "execution_count": 80,
     "metadata": {},
     "output_type": "execute_result"
    }
   ],
   "source": [
    "ttest_rel(models[\"en\"][\"random\"], models[\"en\"][\"real\"])"
   ]
  },
  {
   "cell_type": "code",
   "execution_count": 91,
   "metadata": {},
   "outputs": [
    {
     "name": "stdout",
     "output_type": "stream",
     "text": [
      "en:\t(-6.488, 3.6022055465e-10)\n",
      "es:\t(16.354, 0.0)\n",
      "fr:\t(32.03, 0.0)\n"
     ]
    },
    {
     "data": {
      "image/png": "[encoded data removed]",
      "text/plain": [
       "<Figure size 1440x720 with 3 Axes>"
      ]
     },
     "metadata": {},
     "output_type": "display_data"
    }
   ],
   "source": [
    "plt.figure(figsize=(20, 10))\n",
    "plot_data = {\n",
    "    \"n_rows\": 1,\n",
    "    \"n_cols\": 3\n",
    "}\n",
    "# print(\"\"\"\n",
    "#     Red: random\\n\n",
    "#     Blue: real\n",
    "#     \"\"\")\n",
    "d_t_tests = {}\n",
    "for subplot_num, lang in enumerate(languages, 1):\n",
    "    real = models[lang][\"real\"]\n",
    "    rand = models[lang][\"random\"]\n",
    "    plt.subplot(plot_data[\"n_rows\"], plot_data[\"n_cols\"], subplot_num)    \n",
    "    \n",
    "    plt.title(\"{}\".format(lang))\n",
    "    \n",
    "    # Random\n",
    "    plt.hist(rand, alpha=0.3, color=\"red\")\n",
    "    plt.axvline(np.mean(rand), color=\"red\", linestyle='dashed')\n",
    "    \n",
    "    # Real\n",
    "    plt.hist(real, alpha=0.3, color=\"blue\")\n",
    "    plt.axvline(np.mean(real), color=\"blue\", linestyle='dashed')\n",
    "    \n",
    "    # Legend\n",
    "    plt.text(0.035, 70, \"random\", color=\"red\")\n",
    "    plt.text(0.035, 65, \"real\", color=\"blue\")\n",
    "    \n",
    "    # Settings\n",
    "    plt.xlim(-0.05, 0.05)\n",
    "    plt.ylim(0, 80)\n",
    "    \n",
    "    # ttest\n",
    "    d_t_tests[lang] = ttest_rel(real, rand)\n",
    "print(\"en:\\t{}\\nes:\\t{}\\nfr:\\t{}\".format(*map(lambda x: (round(d_t_tests[x][0], 3), \n",
    "                                                               round(d_t_tests[x][1], 20)), languages)))"
   ]
  },
  {
   "cell_type": "code",
   "execution_count": null,
   "metadata": {},
   "outputs": [],
   "source": []
  }
 ],
 "metadata": {
  "kernelspec": {
   "display_name": "Python 3",
   "language": "python",
   "name": "python3"
  },
  "language_info": {
   "codemirror_mode": {
    "name": "ipython",
    "version": 3
   },
   "file_extension": ".py",
   "mimetype": "text/x-python",
   "name": "python",
   "nbconvert_exporter": "python",
   "pygments_lexer": "ipython3",
   "version": "3.6.6"
  }
 },
 "nbformat": 4,
 "nbformat_minor": 2
}
